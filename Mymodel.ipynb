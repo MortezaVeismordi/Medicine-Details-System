{
 "cells": [
  {
   "cell_type": "code",
   "execution_count": 1,
   "metadata": {},
   "outputs": [],
   "source": [
    "import pandas as pd"
   ]
  },
  {
   "cell_type": "code",
   "execution_count": 2,
   "metadata": {},
   "outputs": [],
   "source": [
    "file_path = 'Medicine_Details.csv'\n",
    "medicine_data = pd.read_csv(file_path)"
   ]
  },
  {
   "cell_type": "code",
   "execution_count": 3,
   "metadata": {},
   "outputs": [],
   "source": [
    "medicine_data = medicine_data.dropna()"
   ]
  },
  {
   "cell_type": "code",
   "execution_count": 4,
   "metadata": {},
   "outputs": [],
   "source": [
    "medicine_data['Medicine Name'] = medicine_data['Medicine Name'].str.strip()\n",
    "medicine_data['Uses'] = medicine_data['Uses'].str.strip()\n",
    "medicine_data['Composition'] = medicine_data['Composition'].str.strip()"
   ]
  },
  {
   "cell_type": "code",
   "execution_count": 5,
   "metadata": {},
   "outputs": [
    {
     "name": "stdout",
     "output_type": "stream",
     "text": [
      "\n",
      "دیتاست پیش‌پردازش شده در فایل Preprocessed_Medicine_Details.csv ذخیره شد.\n"
     ]
    }
   ],
   "source": [
    "preprocessed_file = 'Preprocessed_Medicine_Details.csv'\n",
    "medicine_data.to_csv(preprocessed_file, index=False)\n",
    "print(f\"\\nدیتاست پیش‌پردازش شده در فایل {preprocessed_file} ذخیره شد.\")"
   ]
  },
  {
   "cell_type": "code",
   "execution_count": null,
   "metadata": {},
   "outputs": [],
   "source": []
  }
 ],
 "metadata": {
  "kernelspec": {
   "display_name": "Python 3",
   "language": "python",
   "name": "python3"
  },
  "language_info": {
   "codemirror_mode": {
    "name": "ipython",
    "version": 3
   },
   "file_extension": ".py",
   "mimetype": "text/x-python",
   "name": "python",
   "nbconvert_exporter": "python",
   "pygments_lexer": "ipython3",
   "version": "3.12.5"
  }
 },
 "nbformat": 4,
 "nbformat_minor": 2
}
